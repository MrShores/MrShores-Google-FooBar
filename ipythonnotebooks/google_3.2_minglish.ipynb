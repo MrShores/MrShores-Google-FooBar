{
 "metadata": {
  "name": "",
  "signature": "sha256:0a06d01e96fd7a623c2712a6c93f482cdc3efb79eeed2c216eedf84390e8f56b"
 },
 "nbformat": 3,
 "nbformat_minor": 0,
 "worksheets": [
  {
   "cells": [
    {
     "cell_type": "code",
     "collapsed": false,
     "input": [
      "dict1 = [\"y\", \"z\", \"xy\"]   # y z x\n",
      "dict2 = [\"ba\", \"ab\", \"cb\"] # b a c\n",
      "dict3 = [\"z\", \"yx\", \"yz\"]  # x z y"
     ],
     "language": "python",
     "metadata": {},
     "outputs": [],
     "prompt_number": 3
    },
    {
     "cell_type": "code",
     "collapsed": false,
     "input": [
      "import difflib\n",
      "\n",
      "def answer(words):\n",
      "#     # get unique letters\n",
      "#     unique = []\n",
      "#     for w in words:\n",
      "#         for i in range(0,len(w)):\n",
      "#             if w[i] not in unique:\n",
      "#                 unique.append(w[i])\n",
      "    \n",
      "#     # sort to use for comparison\n",
      "#     unique = sorted(unique)\n",
      "\n",
      "    map = [] # holds pairs of ordered words\n",
      "       \n",
      "    for i in range(0, len(words)-1):\n",
      "        w1 = words[i]\n",
      "        w2 = words[i+1]\n",
      "        print 'WORDS:', w1, w2\n",
      "        \n",
      "         # compare letters up to shortest words\n",
      "        for j in range(0, min(len(w1), len(w2))):\n",
      "            print '    LETTERS:', w1[j], w2[j]\n",
      "\n",
      "            if w1[j] != w2[j]: # if letters are different, then first word letter is first\n",
      "                map.append([w1[j], w2[j]]) # ordered pairs\n",
      "                break\n",
      "    \n",
      "    print 'MAP:', map\n",
      "    \n",
      "#     order = [] # start with first pair of ordered letters\n",
      "#     order.append(map.pop(0))\n",
      "#     while map:\n",
      "#         if map[0][1] == order[0][0]:\n",
      "#             order = [map[0]] + order\n",
      "#             print order\n",
      "#             map.pop(0)\n",
      "#         elif map[0][0] == order[0][1]:\n",
      "#             order = order.append(map.pop(0))\n",
      "#             print order\n",
      "            \n",
      "#     print 'ORD:', order\n",
      "    \n",
      "    # for i in range(0, len(map)-1):\n",
      "        \n",
      "            \n",
      "    # get w.1, first letter of first word\n",
      "    # add it to list\n",
      "    # get w.1, if first letter same as first, get 2nd letters\n",
      "    # if same, get 3rd letters...\n",
      "\n",
      "    \n",
      "#     # order the letters by appearance\n",
      "#     map = {n: [] for n in range(0,50)}\n",
      "#     for w in words:\n",
      "#         for i in range(0, len(w)):\n",
      "#             map[i].append(w[i])\n",
      "\n",
      "#     map = [map[n] for n in range(0,50) if len(map[n]) > 0]\n",
      "\n",
      "\n",
      "#     # reduce duplicates from list, retain order of appearance\n",
      "#     for i, m in enumerate(map):\n",
      "#         reduced = []\n",
      "#         for n in m:\n",
      "#             if n not in reduced:\n",
      "#                 reduced.append(n)\n",
      "#         map[i] = reduced\n",
      "    \n",
      "#     print 'MAP:', map\n",
      "    \n",
      "#     # test if one map is the full set\n",
      "#     for m in map:\n",
      "#         if sorted(m) == unique: # first letters give full order\n",
      "#             return m\n",
      "\n",
      "#     pos = []\n",
      "    \n",
      "        \n",
      "#     for i in range(0, len(map) - 1):\n",
      "#         s = difflib.SequenceMatcher(None, map[i], map[i+1])\n",
      "\n",
      "#         codes = s.get_opcodes()\n",
      "        \n",
      "#         merged = []\n",
      "#         for c in codes:\n",
      "#             if c[0] == 'insert':\n",
      "#                 j1 = c[3]\n",
      "#                 merged.append(map[i+1][j1]) # insert term from second list\n",
      "#             else:\n",
      "#                 i1 = c[1]\n",
      "#                 merged.append(map[i][i1]) # insert term from first list\n",
      "\n",
      "#         # if merged has all the unique letters, done!\n",
      "#         if sorted(merged) == unique:\n",
      "#             return merged\n",
      "#         else:\n",
      "#             map[i] = merged\n",
      "\n",
      "    return map"
     ],
     "language": "python",
     "metadata": {},
     "outputs": [],
     "prompt_number": 14
    },
    {
     "cell_type": "code",
     "collapsed": false,
     "input": [
      "answer(dict3)"
     ],
     "language": "python",
     "metadata": {},
     "outputs": [
      {
       "output_type": "stream",
       "stream": "stdout",
       "text": [
        "WORDS: z yx\n",
        "    LETTERS: z y\n",
        "WORDS: yx yz\n",
        "    LETTERS: y y\n",
        "    LETTERS: x z\n",
        "MAP: [['z', 'y'], ['x', 'z']]\n"
       ]
      },
      {
       "metadata": {},
       "output_type": "pyout",
       "prompt_number": 15,
       "text": [
        "[['z', 'y'], ['x', 'z']]"
       ]
      }
     ],
     "prompt_number": 15
    },
    {
     "cell_type": "code",
     "collapsed": false,
     "input": [
      "answer(dict1)"
     ],
     "language": "python",
     "metadata": {},
     "outputs": [
      {
       "output_type": "stream",
       "stream": "stdout",
       "text": [
        "WORDS: y z\n",
        "    LETTERS: y z\n",
        "WORDS: z xy\n",
        "    LETTERS: z x\n",
        "MAP: [['y', 'z'], ['z', 'x']]\n"
       ]
      },
      {
       "metadata": {},
       "output_type": "pyout",
       "prompt_number": 16,
       "text": [
        "[['y', 'z'], ['z', 'x']]"
       ]
      }
     ],
     "prompt_number": 16
    },
    {
     "cell_type": "code",
     "collapsed": false,
     "input": [
      "answer(dict2)"
     ],
     "language": "python",
     "metadata": {},
     "outputs": [
      {
       "output_type": "stream",
       "stream": "stdout",
       "text": [
        "WORDS: ba ab\n",
        "    LETTERS: b a\n",
        "WORDS: ab cb\n",
        "    LETTERS: a c\n",
        "MAP: [['b', 'a'], ['a', 'c']]\n"
       ]
      },
      {
       "metadata": {},
       "output_type": "pyout",
       "prompt_number": 17,
       "text": [
        "[['b', 'a'], ['a', 'c']]"
       ]
      }
     ],
     "prompt_number": 17
    },
    {
     "cell_type": "code",
     "collapsed": false,
     "input": [
      "# answer(['abc', 'aiajak', 'aza', 'defgh', 'llmn', 'nop', 'pqbrbs', 'tuvwx', 'yyyyy'])\n",
      "answer(['j','kk','ka', 'ca', 'cc'])"
     ],
     "language": "python",
     "metadata": {},
     "outputs": [
      {
       "output_type": "stream",
       "stream": "stdout",
       "text": [
        "WORDS: j kk\n",
        "    LETTERS: j k\n",
        "WORDS: kk ka\n",
        "    LETTERS: k k\n",
        "    LETTERS: k a\n",
        "WORDS: ka ca\n",
        "    LETTERS: k c\n",
        "WORDS: ca cc\n",
        "    LETTERS: c c\n",
        "    LETTERS: a c\n",
        "MAP: [['j', 'k'], ['k', 'a'], ['k', 'c'], ['a', 'c']]\n"
       ]
      },
      {
       "metadata": {},
       "output_type": "pyout",
       "prompt_number": 18,
       "text": [
        "[['j', 'k'], ['k', 'a'], ['k', 'c'], ['a', 'c']]"
       ]
      }
     ],
     "prompt_number": 18
    },
    {
     "cell_type": "code",
     "collapsed": false,
     "input": [
      "answer(['ab', 'aa', 'ac'])"
     ],
     "language": "python",
     "metadata": {},
     "outputs": [
      {
       "output_type": "stream",
       "stream": "stdout",
       "text": [
        "WORDS: ab aa\n",
        "    LETTERS: a a\n",
        "    LETTERS: b a\n",
        "WORDS: aa ac\n",
        "    LETTERS: a a\n",
        "    LETTERS: a c\n",
        "MAP: [['b', 'a'], ['a', 'c']]\n"
       ]
      },
      {
       "metadata": {},
       "output_type": "pyout",
       "prompt_number": 19,
       "text": [
        "[['b', 'a'], ['a', 'c']]"
       ]
      }
     ],
     "prompt_number": 19
    },
    {
     "cell_type": "code",
     "collapsed": false,
     "input": [],
     "language": "python",
     "metadata": {},
     "outputs": []
    }
   ],
   "metadata": {}
  }
 ]
}
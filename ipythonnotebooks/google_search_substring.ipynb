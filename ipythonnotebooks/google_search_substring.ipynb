{
 "metadata": {
  "name": "",
  "signature": "sha256:ec731735e568b714c4217d92819886696aaffb863f0ba4d2503f23a38c5fcd74"
 },
 "nbformat": 3,
 "nbformat_minor": 0,
 "worksheets": [
  {
   "cells": [
    {
     "cell_type": "code",
     "collapsed": false,
     "input": [
      "import re\n",
      "from operator import itemgetter\n",
      "\n",
      "def answer(string, terms):\n",
      "\n",
      "    # sort terms alphabetically\n",
      "    terms = sorted(terms)\n",
      "    \n",
      "    # Get occurence of each term\n",
      "    indexes = []\n",
      "    for term in terms:\n",
      "        i = -1\n",
      "        idx = []\n",
      "        regex = re.compile('{0}( |$)'.format(term))\n",
      "        substr = string # to allow rematching\n",
      "        pos = 0\n",
      "\n",
      "        while True:\n",
      "            i = regex.search(string, pos=pos)      \n",
      "\n",
      "            # If there's a match\n",
      "            if i is not None:\n",
      "                indexes.append({'start': i.start(), 'end': i.end(), 'term': term})\n",
      "                pos = i.start() + 1\n",
      "            else: # No match found\n",
      "                break\n",
      "    \n",
      "    # sort indexes\n",
      "    if len(indexes) == 0:\n",
      "        return ''\n",
      "    else:\n",
      "        indexes = sorted(indexes, key=itemgetter('start'))\n",
      "    \n",
      "    # build substrings\n",
      "    sub_strings = []\n",
      "    for idx, i in enumerate(indexes):\n",
      "        start = i\n",
      "        # print 'START', idx, start\n",
      "        used = [start['term']]\n",
      "        \n",
      "        for idk, j in enumerate(indexes[idx + 1:]):\n",
      "            if j['term'] in used:\n",
      "                pass\n",
      "            else:\n",
      "                used.append(j['term'])\n",
      "            \n",
      "            if sorted(used) == terms:\n",
      "                end = j\n",
      "                sub_strings.append([start, end])\n",
      "                print start, end\n",
      "\n",
      "    if sub_strings == []:\n",
      "        return ''\n",
      "    else:\n",
      "        strings = []\n",
      "        for s in sub_strings:\n",
      "            str = string[s[0]['start']:s[1]['end']]\n",
      "            str = str.strip()\n",
      "            strings.append(str)\n",
      "\n",
      "        # sort substrings by length\n",
      "        strings = sorted(strings, key=lambda x: len(x))\n",
      "\n",
      "        return strings[0]"
     ],
     "language": "python",
     "metadata": {},
     "outputs": [],
     "prompt_number": 113
    },
    {
     "cell_type": "code",
     "collapsed": false,
     "input": [
      "string = \"many google employees can program well\"\n",
      "terms = ['google', 'program']\n",
      "d = answer(string, terms)\n",
      "d"
     ],
     "language": "python",
     "metadata": {},
     "outputs": [
      {
       "output_type": "stream",
       "stream": "stdout",
       "text": [
        "{'start': 5, 'term': 'google', 'end': 12} {'start': 26, 'term': 'program', 'end': 34}\n"
       ]
      },
      {
       "metadata": {},
       "output_type": "pyout",
       "prompt_number": 114,
       "text": [
        "'google employees can program'"
       ]
      }
     ],
     "prompt_number": 114
    },
    {
     "cell_type": "code",
     "collapsed": false,
     "input": [
      "string2 = \"these are the days of our lives days of wonder\"\n",
      "terms2 = ['days', 'wonder']\n",
      "d2 = answer(string2, terms2)\n",
      "d2"
     ],
     "language": "python",
     "metadata": {},
     "outputs": [
      {
       "output_type": "stream",
       "stream": "stdout",
       "text": [
        "{'start': 14, 'term': 'days', 'end': 19} {'start': 40, 'term': 'wonder', 'end': 46}\n",
        "{'start': 32, 'term': 'days', 'end': 37} {'start': 40, 'term': 'wonder', 'end': 46}\n"
       ]
      },
      {
       "metadata": {},
       "output_type": "pyout",
       "prompt_number": 115,
       "text": [
        "'days of wonder'"
       ]
      }
     ],
     "prompt_number": 115
    },
    {
     "cell_type": "code",
     "collapsed": false,
     "input": [
      "string3 = \"many google employees can goo program google and goo\"\n",
      "terms3 = ['goo', 'employees', 'hazel']\n",
      "d3 = answer(string3, terms3)\n",
      "d3"
     ],
     "language": "python",
     "metadata": {},
     "outputs": [
      {
       "metadata": {},
       "output_type": "pyout",
       "prompt_number": 116,
       "text": [
        "''"
       ]
      }
     ],
     "prompt_number": 116
    },
    {
     "cell_type": "code",
     "collapsed": false,
     "input": [
      "string4 = \"a b c d a\"\n",
      "terms4 = [\"a\", \"c\", \"d\"]\n",
      "d4 = answer(string4, terms4)\n",
      "d4"
     ],
     "language": "python",
     "metadata": {},
     "outputs": [
      {
       "output_type": "stream",
       "stream": "stdout",
       "text": [
        "{'start': 0, 'term': 'a', 'end': 2} {'start': 6, 'term': 'd', 'end': 8}\n",
        "{'start': 0, 'term': 'a', 'end': 2} {'start': 8, 'term': 'a', 'end': 9}\n",
        "{'start': 4, 'term': 'c', 'end': 6} {'start': 8, 'term': 'a', 'end': 9}\n"
       ]
      },
      {
       "metadata": {},
       "output_type": "pyout",
       "prompt_number": 117,
       "text": [
        "'c d a'"
       ]
      }
     ],
     "prompt_number": 117
    },
    {
     "cell_type": "code",
     "collapsed": false,
     "input": [],
     "language": "python",
     "metadata": {},
     "outputs": []
    }
   ],
   "metadata": {}
  }
 ]
}
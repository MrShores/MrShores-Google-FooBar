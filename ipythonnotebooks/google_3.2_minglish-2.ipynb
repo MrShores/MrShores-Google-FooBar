{
 "metadata": {
  "name": "",
  "signature": "sha256:74813e48f0191a89791c4f0e25d9cb31dcca345cd4a0b24f028ad4c296564c8c"
 },
 "nbformat": 3,
 "nbformat_minor": 0,
 "worksheets": [
  {
   "cells": [
    {
     "cell_type": "code",
     "collapsed": false,
     "input": [
      "dict1 = [\"y\", \"z\", \"xy\"]   # y z x\n",
      "dict2 = [\"ba\", \"ab\", \"cb\"] # b a c\n",
      "dict3 = [\"z\", \"yx\", \"yz\"]  # x z y"
     ],
     "language": "python",
     "metadata": {},
     "outputs": [],
     "prompt_number": 4
    },
    {
     "cell_type": "code",
     "collapsed": false,
     "input": [
      "import difflib\n",
      "\n",
      "def answer(words):\n",
      "    # get unique letters\n",
      "    unique = []\n",
      "    for w in words:\n",
      "        for i in range(0,len(w)):\n",
      "            if w[i] not in unique:\n",
      "                unique.append(w[i])\n",
      "    \n",
      "    # sort to use for comparison\n",
      "    unique = sorted(unique)\n",
      "\n",
      "    map = [] # holds pairs of ordered words\n",
      "   \n",
      "    for i in range(0, len(words)-1):\n",
      "        w1 = words[i]\n",
      "        w2 = words[i+1]\n",
      "        \n",
      "         # compare letters up to shortest words\n",
      "        for j in range(0, min(len(w1), len(w2))):\n",
      "            if w1[j] != w2[j]: # if letters are different, then first word letter is first\n",
      "                map.append([w1[j], w2[j]]) # ordered pairs\n",
      "                break\n",
      "      \n",
      "    order = [] # start with first pair of ordered letters\n",
      "    order.append(map.pop(0))\n",
      "    \n",
      "    while map:\n",
      "        if map[0][1] == order[0][0]:\n",
      "            order = [map[0]] + order\n",
      "            map.pop(0)\n",
      "        elif map[0][0] == order[0][1]:\n",
      "            order.append(map.pop(0))\n",
      "\n",
      "        mid = [p for o in order for p in o]\n",
      "        compiled = []\n",
      "        for m in mid:\n",
      "            if m not in compiled:\n",
      "                compiled.append(m)\n",
      "        if sorted(compiled) == unique:\n",
      "            return compiled\n",
      "    \n",
      "    return False"
     ],
     "language": "python",
     "metadata": {},
     "outputs": [],
     "prompt_number": 40
    },
    {
     "cell_type": "code",
     "collapsed": false,
     "input": [
      "answer(dict3)"
     ],
     "language": "python",
     "metadata": {},
     "outputs": [
      {
       "output_type": "stream",
       "stream": "stdout",
       "text": [
        "WORDS: z yx\n",
        "    LETTERS: z y\n",
        "WORDS: yx yz\n",
        "    LETTERS: y y\n",
        "    LETTERS: x z\n",
        "MAP: [['z', 'y'], ['x', 'z']]\n",
        "ORDER1: [['z', 'y']]\n",
        "ORDER: [['x', 'z'], ['z', 'y']]\n"
       ]
      },
      {
       "metadata": {},
       "output_type": "pyout",
       "prompt_number": 41,
       "text": [
        "['x', 'z', 'y']"
       ]
      }
     ],
     "prompt_number": 41
    },
    {
     "cell_type": "code",
     "collapsed": false,
     "input": [
      "answer(dict1)"
     ],
     "language": "python",
     "metadata": {},
     "outputs": [
      {
       "output_type": "stream",
       "stream": "stdout",
       "text": [
        "WORDS: y z\n",
        "    LETTERS: y z\n",
        "WORDS: z xy\n",
        "    LETTERS: z x\n",
        "MAP: [['y', 'z'], ['z', 'x']]\n",
        "ORDER1: [['y', 'z']]\n",
        "ORDER: [['y', 'z'], ['z', 'x']]\n"
       ]
      },
      {
       "metadata": {},
       "output_type": "pyout",
       "prompt_number": 42,
       "text": [
        "['y', 'z', 'x']"
       ]
      }
     ],
     "prompt_number": 42
    },
    {
     "cell_type": "code",
     "collapsed": false,
     "input": [
      "answer(dict2)"
     ],
     "language": "python",
     "metadata": {},
     "outputs": [
      {
       "output_type": "stream",
       "stream": "stdout",
       "text": [
        "WORDS: ba ab\n",
        "    LETTERS: b a\n",
        "WORDS: ab cb\n",
        "    LETTERS: a c\n",
        "MAP: [['b', 'a'], ['a', 'c']]\n",
        "ORDER1: [['b', 'a']]\n",
        "ORDER: [['b', 'a'], ['a', 'c']]\n"
       ]
      },
      {
       "metadata": {},
       "output_type": "pyout",
       "prompt_number": 43,
       "text": [
        "['b', 'a', 'c']"
       ]
      }
     ],
     "prompt_number": 43
    },
    {
     "cell_type": "code",
     "collapsed": false,
     "input": [
      "answer(['j','kk','ka', 'ca', 'cc'])"
     ],
     "language": "python",
     "metadata": {},
     "outputs": [
      {
       "output_type": "stream",
       "stream": "stdout",
       "text": [
        "WORDS: j kk\n",
        "    LETTERS: j k\n",
        "WORDS: kk ka\n",
        "    LETTERS: k k\n",
        "    LETTERS: k a\n",
        "WORDS: ka ca\n",
        "    LETTERS: k c\n",
        "WORDS: ca cc\n",
        "    LETTERS: c c\n",
        "    LETTERS: a c\n",
        "MAP: [['j', 'k'], ['k', 'a'], ['k', 'c'], ['a', 'c']]\n",
        "ORDER1: [['j', 'k']]\n",
        "ORDER: [['j', 'k'], ['k', 'a']]\n",
        "ORDER: [['j', 'k'], ['k', 'a'], ['k', 'c']]\n"
       ]
      },
      {
       "metadata": {},
       "output_type": "pyout",
       "prompt_number": 44,
       "text": [
        "['j', 'k', 'a', 'c']"
       ]
      }
     ],
     "prompt_number": 44
    },
    {
     "cell_type": "code",
     "collapsed": false,
     "input": [
      "answer(['ab', 'aa', 'ac'])"
     ],
     "language": "python",
     "metadata": {},
     "outputs": [
      {
       "output_type": "stream",
       "stream": "stdout",
       "text": [
        "WORDS: ab aa\n",
        "    LETTERS: a a\n",
        "    LETTERS: b a\n",
        "WORDS: aa ac\n",
        "    LETTERS: a a\n",
        "    LETTERS: a c\n",
        "MAP: [['b', 'a'], ['a', 'c']]\n",
        "ORDER1: [['b', 'a']]\n",
        "ORDER: [['b', 'a'], ['a', 'c']]\n"
       ]
      },
      {
       "metadata": {},
       "output_type": "pyout",
       "prompt_number": 45,
       "text": [
        "['b', 'a', 'c']"
       ]
      }
     ],
     "prompt_number": 45
    },
    {
     "cell_type": "code",
     "collapsed": false,
     "input": [],
     "language": "python",
     "metadata": {},
     "outputs": []
    }
   ],
   "metadata": {}
  }
 ]
}
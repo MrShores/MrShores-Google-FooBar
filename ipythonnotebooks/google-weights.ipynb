{
 "metadata": {
  "name": "",
  "signature": "sha256:19db78ea1b148ce22a7334b8ce2572e1f40fd79a446f16945c1e4652f00791f6"
 },
 "nbformat": 3,
 "nbformat_minor": 0,
 "worksheets": [
  {
   "cells": [
    {
     "cell_type": "code",
     "collapsed": false,
     "input": [
      "for x in range(1,12):\n",
      "    print ((x+0)/3**0)%3"
     ],
     "language": "python",
     "metadata": {},
     "outputs": [
      {
       "output_type": "stream",
       "stream": "stdout",
       "text": [
        "1\n",
        "2\n",
        "0\n",
        "1\n",
        "2\n",
        "0\n",
        "1\n",
        "2\n",
        "0\n",
        "1\n",
        "2\n"
       ]
      }
     ],
     "prompt_number": 1
    },
    {
     "cell_type": "code",
     "collapsed": false,
     "input": [
      "for x in range(1,12):\n",
      "    print ((x+1)/3**1)%3"
     ],
     "language": "python",
     "metadata": {},
     "outputs": [
      {
       "output_type": "stream",
       "stream": "stdout",
       "text": [
        "0\n",
        "1\n",
        "1\n",
        "1\n",
        "2\n",
        "2\n",
        "2\n",
        "0\n",
        "0\n",
        "0\n",
        "1\n"
       ]
      }
     ],
     "prompt_number": 2
    },
    {
     "cell_type": "code",
     "collapsed": false,
     "input": [
      "for x in range(1,27):\n",
      "    print ((x+4)/3**2)%3"
     ],
     "language": "python",
     "metadata": {},
     "outputs": [
      {
       "output_type": "stream",
       "stream": "stdout",
       "text": [
        "0\n",
        "0\n",
        "0\n",
        "0\n",
        "1\n",
        "1\n",
        "1\n",
        "1\n",
        "1\n",
        "1\n",
        "1\n",
        "1\n",
        "1\n",
        "2\n",
        "2\n",
        "2\n",
        "2\n",
        "2\n",
        "2\n",
        "2\n",
        "2\n",
        "2\n",
        "0\n",
        "0\n",
        "0\n",
        "0\n"
       ]
      }
     ],
     "prompt_number": 3
    },
    {
     "cell_type": "code",
     "collapsed": false,
     "input": [
      "for x in range(1,27):\n",
      "    print ((x+13)/3**3)%3"
     ],
     "language": "python",
     "metadata": {},
     "outputs": [
      {
       "output_type": "stream",
       "stream": "stdout",
       "text": [
        "0\n",
        "0\n",
        "0\n",
        "0\n",
        "0\n",
        "0\n",
        "0\n",
        "0\n",
        "0\n",
        "0\n",
        "0\n",
        "0\n",
        "0\n",
        "1\n",
        "1\n",
        "1\n",
        "1\n",
        "1\n",
        "1\n",
        "1\n",
        "1\n",
        "1\n",
        "1\n",
        "1\n",
        "1\n",
        "1\n"
       ]
      }
     ],
     "prompt_number": 4
    },
    {
     "cell_type": "code",
     "collapsed": false,
     "input": [
      "def answer(x):\n",
      "    list = [] \n",
      "    expsum = 0\n",
      "\n",
      "    # left vs right of the balance\n",
      "    b = {\n",
      "        'left': x,\n",
      "        'right': 0,\n",
      "    }\n",
      "    for e in range(0, 40):\n",
      "        mod = ((x + expsum)/3**e)%3\n",
      "\n",
      "        if mod == 1:\n",
      "            list.append('R')\n",
      "            b['right'] = b['right'] + 3**e\n",
      "        elif mod == 2:\n",
      "            list.append('L')\n",
      "            b['left'] = b['left'] + 3**e\n",
      "        else:\n",
      "            if b['left'] == b['right']:\n",
      "                return list\n",
      "            else:\n",
      "                list.append('-')\n",
      "        \n",
      "        expsum = expsum + 3**e\n",
      "\n",
      "    return list"
     ],
     "language": "python",
     "metadata": {},
     "outputs": [],
     "prompt_number": 83
    },
    {
     "cell_type": "code",
     "collapsed": false,
     "input": [
      "def get_number(list):\n",
      "    print list\n",
      "    sum = 0\n",
      "    print 'length:', len(list)\n",
      "    for e in range(0,len(list)):\n",
      "        print 'e:', e\n",
      "        if list[e] == 'R':\n",
      "            sum = sum + 3**e\n",
      "        elif list[e] == 'L':\n",
      "            sum = sum - 3**e\n",
      "    return sum"
     ],
     "language": "python",
     "metadata": {},
     "outputs": [],
     "prompt_number": 84
    },
    {
     "cell_type": "code",
     "collapsed": false,
     "input": [
      "list = answer(1)\n",
      "get_number(list)"
     ],
     "language": "python",
     "metadata": {},
     "outputs": [
      {
       "output_type": "stream",
       "stream": "stdout",
       "text": [
        "['R']\n",
        "length: 1\n",
        "e: 0\n"
       ]
      },
      {
       "metadata": {},
       "output_type": "pyout",
       "prompt_number": 85,
       "text": [
        "1"
       ]
      }
     ],
     "prompt_number": 85
    },
    {
     "cell_type": "code",
     "collapsed": false,
     "input": [
      "list = answer(2)\n",
      "get_number(list)"
     ],
     "language": "python",
     "metadata": {},
     "outputs": [
      {
       "output_type": "stream",
       "stream": "stdout",
       "text": [
        "['L', 'R']\n",
        "length: 2\n",
        "e: 0\n",
        "e: 1\n"
       ]
      },
      {
       "metadata": {},
       "output_type": "pyout",
       "prompt_number": 86,
       "text": [
        "2"
       ]
      }
     ],
     "prompt_number": 86
    },
    {
     "cell_type": "code",
     "collapsed": false,
     "input": [
      "list = answer(8)\n",
      "get_number(list)"
     ],
     "language": "python",
     "metadata": {},
     "outputs": [
      {
       "output_type": "stream",
       "stream": "stdout",
       "text": [
        "['L', '-', 'R']\n",
        "length: 3\n",
        "e: 0\n",
        "e: 1\n",
        "e: 2\n"
       ]
      },
      {
       "metadata": {},
       "output_type": "pyout",
       "prompt_number": 87,
       "text": [
        "8"
       ]
      }
     ],
     "prompt_number": 87
    },
    {
     "cell_type": "code",
     "collapsed": false,
     "input": [
      "list = answer(4)\n",
      "get_number(list)"
     ],
     "language": "python",
     "metadata": {},
     "outputs": [
      {
       "output_type": "stream",
       "stream": "stdout",
       "text": [
        "['R', 'R']\n",
        "length: 2\n",
        "e: 0\n",
        "e: 1\n"
       ]
      },
      {
       "metadata": {},
       "output_type": "pyout",
       "prompt_number": 88,
       "text": [
        "4"
       ]
      }
     ],
     "prompt_number": 88
    },
    {
     "cell_type": "code",
     "collapsed": false,
     "input": [
      "list = answer(29)\n",
      "get_number(list)"
     ],
     "language": "python",
     "metadata": {},
     "outputs": [
      {
       "output_type": "stream",
       "stream": "stdout",
       "text": [
        "['L', 'R', '-', 'R']\n",
        "length: 4\n",
        "e: 0\n",
        "e: 1\n",
        "e: 2\n",
        "e: 3\n"
       ]
      },
      {
       "metadata": {},
       "output_type": "pyout",
       "prompt_number": 89,
       "text": [
        "29"
       ]
      }
     ],
     "prompt_number": 89
    },
    {
     "cell_type": "code",
     "collapsed": false,
     "input": [
      "answer(30)"
     ],
     "language": "python",
     "metadata": {},
     "outputs": [
      {
       "metadata": {},
       "output_type": "pyout",
       "prompt_number": 90,
       "text": [
        "['-', 'R', '-', 'R']"
       ]
      }
     ],
     "prompt_number": 90
    },
    {
     "cell_type": "code",
     "collapsed": false,
     "input": [
      "answer(32)"
     ],
     "language": "python",
     "metadata": {},
     "outputs": [
      {
       "metadata": {},
       "output_type": "pyout",
       "prompt_number": 91,
       "text": [
        "['L', 'L', 'R', 'R']"
       ]
      }
     ],
     "prompt_number": 91
    },
    {
     "cell_type": "code",
     "collapsed": false,
     "input": [
      "answer(43)"
     ],
     "language": "python",
     "metadata": {},
     "outputs": [
      {
       "metadata": {},
       "output_type": "pyout",
       "prompt_number": 92,
       "text": [
        "['R', 'L', 'L', 'L', 'R']"
       ]
      }
     ],
     "prompt_number": 92
    },
    {
     "cell_type": "code",
     "collapsed": false,
     "input": [
      "list = answer(1000000000)\n",
      "get_number(list)"
     ],
     "language": "python",
     "metadata": {},
     "outputs": [
      {
       "output_type": "stream",
       "stream": "stdout",
       "text": [
        "['R', '-', '-', '-', 'R', '-', 'R', 'L', 'R', '-', '-', 'L', 'R', '-', 'L', 'R', 'L', 'L', '-', 'R']\n",
        "length: 20\n",
        "e: 0\n",
        "e: 1\n",
        "e: 2\n",
        "e: 3\n",
        "e: 4\n",
        "e: 5\n",
        "e: 6\n",
        "e: 7\n",
        "e: 8\n",
        "e: 9\n",
        "e: 10\n",
        "e: 11\n",
        "e: 12\n",
        "e: 13\n",
        "e: 14\n",
        "e: 15\n",
        "e: 16\n",
        "e: 17\n",
        "e: 18\n",
        "e: 19\n"
       ]
      },
      {
       "metadata": {},
       "output_type": "pyout",
       "prompt_number": 93,
       "text": [
        "1000000000"
       ]
      }
     ],
     "prompt_number": 93
    },
    {
     "cell_type": "code",
     "collapsed": false,
     "input": [],
     "language": "python",
     "metadata": {},
     "outputs": [],
     "prompt_number": 41
    },
    {
     "cell_type": "code",
     "collapsed": false,
     "input": [],
     "language": "python",
     "metadata": {},
     "outputs": []
    }
   ],
   "metadata": {}
  }
 ]
}
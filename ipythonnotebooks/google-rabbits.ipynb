{
 "metadata": {
  "name": "",
  "signature": "sha256:03c47179a8e5b28118bc4def39b5107b8d617be6e55656853f318e1101c95875"
 },
 "nbformat": 3,
 "nbformat_minor": 0,
 "worksheets": [
  {
   "cells": [
    {
     "cell_type": "code",
     "collapsed": false,
     "input": [
      "x = [2.0, 6.0, 4.0]\n",
      "y = [3.0, 2.0, 1.0]"
     ],
     "language": "python",
     "metadata": {},
     "outputs": [],
     "prompt_number": 41
    },
    {
     "cell_type": "code",
     "collapsed": false,
     "input": [
      "def answer(x,y):\n",
      "    \"\"\"\n",
      "    Find the percent improvement between two floating\n",
      "    point lists, rounded to the nearest integer.\n",
      "    \"\"\"     \n",
      "    x = sorted(x)\n",
      "    y = sorted(y)\n",
      "    \n",
      "    improvements = []\n",
      "    for a,b in zip(x,y):\n",
      "        diff = a - b\n",
      "        percent = diff / a * 100\n",
      "        percent = int(percent)\n",
      "        improvements.append(percent)\n",
      "        print percent\n",
      "\n",
      "    return improvements[0]"
     ],
     "language": "python",
     "metadata": {},
     "outputs": [],
     "prompt_number": 42
    },
    {
     "cell_type": "code",
     "collapsed": false,
     "input": [
      "answer(x,y)"
     ],
     "language": "python",
     "metadata": {},
     "outputs": [
      {
       "output_type": "stream",
       "stream": "stdout",
       "text": [
        "50\n",
        "50\n",
        "50\n"
       ]
      },
      {
       "metadata": {},
       "output_type": "pyout",
       "prompt_number": 43,
       "text": [
        "50"
       ]
      }
     ],
     "prompt_number": 43
    },
    {
     "cell_type": "code",
     "collapsed": false,
     "input": [
      "# TEST CASE 1\n",
      "x1 = [1.0]\n",
      "y1 = [1.0]\n",
      "\n",
      "answer(x1,y1)"
     ],
     "language": "python",
     "metadata": {},
     "outputs": [
      {
       "output_type": "stream",
       "stream": "stdout",
       "text": [
        "0\n"
       ]
      },
      {
       "metadata": {},
       "output_type": "pyout",
       "prompt_number": 44,
       "text": [
        "0"
       ]
      }
     ],
     "prompt_number": 44
    },
    {
     "cell_type": "code",
     "collapsed": false,
     "input": [
      "# TEST CASE 2\n",
      "x2 = [23.0, 150.0, 1024.0, 34868.0]\n",
      "y2 = [2.2999999999999998, 15.0, 102.40000000000001, 3486.8000000000002]\n",
      "\n",
      "answer(x2,y2)"
     ],
     "language": "python",
     "metadata": {},
     "outputs": [
      {
       "output_type": "stream",
       "stream": "stdout",
       "text": [
        "90\n",
        "90\n",
        "90\n",
        "90\n"
       ]
      },
      {
       "metadata": {},
       "output_type": "pyout",
       "prompt_number": 45,
       "text": [
        "90"
       ]
      }
     ],
     "prompt_number": 45
    },
    {
     "cell_type": "code",
     "collapsed": false,
     "input": [],
     "language": "python",
     "metadata": {},
     "outputs": []
    }
   ],
   "metadata": {}
  }
 ]
}